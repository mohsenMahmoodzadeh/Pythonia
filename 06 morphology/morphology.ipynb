{
 "cells": [
  {
   "cell_type": "code",
   "execution_count": 689,
   "metadata": {},
   "outputs": [],
   "source": [
    "import numpy as np\n",
    "import cv2 as cv\n",
    "import cv2\n",
    "from IPython.display import display \n",
    "from PIL import Image \n",
    "from imutils import contours\n",
    "from imutils import paths\n",
    "import imutils\n",
    "from skimage import data, img_as_float\n",
    "from skimage import measure\n",
    "from skimage.metrics import structural_similarity as ssim"
   ]
  },
  {
   "cell_type": "code",
   "execution_count": 690,
   "metadata": {},
   "outputs": [],
   "source": [
    "abcd123_c = np.array(Image.open('./abcd123.png'))\n",
    "bcd12a_c = np.array(Image.open('./bcd12a.png'))\n",
    "dad32_c = np.array(Image.open('./dad32.png'))\n",
    "\n",
    "abcd123 = cv.imread('./abcd123.png', 0)\n",
    "bcd12a = cv.imread('./bcd12a.png', 0)\n",
    "dad32 = cv.imread('./dad32.png', 0)\n",
    "\n",
    "one = cv.imread('./benchmark/1.png',0)\n",
    "two = cv.imread('./benchmark/2.png',0)\n",
    "three = cv.imread('./benchmark/3.png',0)\n",
    "a = cv.imread('./benchmark/A.png',0)\n",
    "b = cv.imread('./benchmark/B.png',0)\n",
    "C = cv.imread('./benchmark/C.png',0)\n",
    "d = cv.imread('./benchmark/D.png',0)\n",
    "benchmarks = [one, two, three, a, b, c, d]"
   ]
  },
  {
   "cell_type": "code",
   "execution_count": 691,
   "metadata": {},
   "outputs": [],
   "source": [
    "def resizer(imgArray, size=256):\n",
    "    dim = (size, size)\n",
    "    resizedArray = []\n",
    "    length = len(imgArray)\n",
    "    print(imgArray[0])\n",
    "    for i in range(length):\n",
    "        img = imgArray[i]\n",
    "        resizedArray.append(cv.resize(img, dim))  \n",
    "    \n",
    "    return resizedArray\n",
    "\n",
    "def threshold(imgArray):\n",
    "    thresholdedArray = []\n",
    "    length = len(imgArray)\n",
    "    for i in range(length):\n",
    "        img = imgArray[i]\n",
    "        thresholdedArray.append(cv.adaptiveThreshold(img,255, cv.ADAPTIVE_THRESH_MEAN_C,cv.THRESH_BINARY_INV,21,5)) \n",
    "\n",
    "    return thresholdedArray"
   ]
  },
  {
   "cell_type": "markdown",
   "metadata": {},
   "source": [
    "## abcd123"
   ]
  },
  {
   "cell_type": "code",
   "execution_count": 692,
   "metadata": {},
   "outputs": [
    {
     "data": {
      "image/png": "[encoded data removed]",
      "text/plain": [
       "<PIL.Image.Image image mode=L size=711x213 at 0x17B80300978>"
      ]
     },
     "metadata": {},
     "output_type": "display_data"
    }
   ],
   "source": [
    "bw = cv.adaptiveThreshold(abcd123,255, cv.ADAPTIVE_THRESH_MEAN_C,cv.THRESH_BINARY_INV,29,10)\n",
    "display(Image.fromarray(bw))"
   ]
  },
  {
   "cell_type": "code",
   "execution_count": 693,
   "metadata": {},
   "outputs": [
    {
     "data": {
      "image/png": "[encoded data removed]",
      "text/plain": [
       "<PIL.Image.Image image mode=L size=711x213 at 0x17B8033E400>"
      ]
     },
     "metadata": {},
     "output_type": "display_data"
    }
   ],
   "source": [
    "kernel = np.ones((2,1), np.uint8)\n",
    "erosion = cv.erode(bw, kernel, iterations=5)\n",
    "display(Image.fromarray(erosion))"
   ]
  },
  {
   "cell_type": "code",
   "execution_count": 694,
   "metadata": {},
   "outputs": [
    {
     "data": {
      "image/png": "[encoded data removed]",
      "text/plain": [
       "<PIL.Image.Image image mode=L size=711x213 at 0x17B8033EA20>"
      ]
     },
     "metadata": {},
     "output_type": "display_data"
    }
   ],
   "source": [
    "kernel = np.ones((1,6), np.uint8)\n",
    "dilation = cv.dilate(erosion, kernel, iterations=1)\n",
    "display(Image.fromarray(dilation))"
   ]
  },
  {
   "cell_type": "code",
   "execution_count": 695,
   "metadata": {},
   "outputs": [
    {
     "data": {
      "image/png": "[encoded data removed]",
      "text/plain": [
       "<PIL.Image.Image image mode=L size=93x100 at 0x17B8033E0F0>"
      ]
     },
     "metadata": {},
     "output_type": "display_data"
    },
    {
     "data": {
      "image/png": "[encoded data removed]",
      "text/plain": [
       "<PIL.Image.Image image mode=L size=75x100 at 0x17B80390160>"
      ]
     },
     "metadata": {},
     "output_type": "display_data"
    },
    {
     "data": {
      "image/png": "[encoded data removed]",
      "text/plain": [
       "<PIL.Image.Image image mode=L size=82x102 at 0x17B80390160>"
      ]
     },
     "metadata": {},
     "output_type": "display_data"
    },
    {
     "data": {
      "image/png": "[encoded data removed]",
      "text/plain": [
       "<PIL.Image.Image image mode=L size=86x100 at 0x17B80390160>"
      ]
     },
     "metadata": {},
     "output_type": "display_data"
    },
    {
     "data": {
      "image/png": "[encoded data removed]",
      "text/plain": [
       "<PIL.Image.Image image mode=L size=67x100 at 0x17B80390160>"
      ]
     },
     "metadata": {},
     "output_type": "display_data"
    },
    {
     "data": {
      "image/png": "[encoded data removed]",
      "text/plain": [
       "<PIL.Image.Image image mode=L size=71x101 at 0x17B80390160>"
      ]
     },
     "metadata": {},
     "output_type": "display_data"
    },
    {
     "data": {
      "image/png": "[encoded data removed]",
      "text/plain": [
       "<PIL.Image.Image image mode=L size=71x102 at 0x17B80390160>"
      ]
     },
     "metadata": {},
     "output_type": "display_data"
    }
   ],
   "source": [
    "mask = np.zeros_like(abcd123, dtype=np.uint8)\n",
    "cnts = cv.findContours(dilation, cv.RETR_EXTERNAL, cv.CHAIN_APPROX_SIMPLE)\n",
    "cnts = cnts[0] if len(cnts) == 2 else cnts[1]\n",
    "(cnts, _) = contours.sort_contours(cnts, method=\"left-to-right\")\n",
    "ROI_number = 0\n",
    "tokens1 = []\n",
    "for c in cnts:\n",
    "    area = cv.contourArea(c)\n",
    "    if area > 1000:\n",
    "        x,y,w,h = cv.boundingRect(c)\n",
    "\n",
    "        ROI = 255 - dilation[y-2:y+h+2, x-2:x+w+2]\n",
    "        cropped = dilation[y-2:y+h+2, x-2:x+w+2]\n",
    "        tokens1.append(cropped)\n",
    "        cv.drawContours(mask, [c], -1, (0,255,0), 2)\n",
    "        cv.imwrite('./ABCD123/ROI_{}.png'.format(ROI_number), ROI)\n",
    "        ROI_number += 1\n",
    "        display(Image.fromarray(cropped))"
   ]
  },
  {
   "cell_type": "markdown",
   "metadata": {},
   "source": [
    "## dad32"
   ]
  },
  {
   "cell_type": "code",
   "execution_count": 696,
   "metadata": {},
   "outputs": [
    {
     "data": {
      "image/png": "[encoded data removed]",
      "text/plain": [
       "<PIL.Image.Image image mode=L size=711x213 at 0x17B80315B00>"
      ]
     },
     "metadata": {},
     "output_type": "display_data"
    }
   ],
   "source": [
    "bw = cv.adaptiveThreshold(dad32,255, cv.ADAPTIVE_THRESH_MEAN_C,cv.THRESH_BINARY_INV,23,15)\n",
    "display(Image.fromarray(bw))"
   ]
  },
  {
   "cell_type": "code",
   "execution_count": 697,
   "metadata": {},
   "outputs": [
    {
     "data": {
      "image/png": "[encoded data removed]",
      "text/plain": [
       "<PIL.Image.Image image mode=L size=711x213 at 0x17B8033C5F8>"
      ]
     },
     "metadata": {},
     "output_type": "display_data"
    }
   ],
   "source": [
    "kernel = np.ones((2,1), np.uint8)\n",
    "erosion = cv.erode(bw, kernel, iterations=7)\n",
    "display(Image.fromarray(erosion))"
   ]
  },
  {
   "cell_type": "code",
   "execution_count": 698,
   "metadata": {},
   "outputs": [
    {
     "data": {
      "image/png": "[encoded data removed]",
      "text/plain": [
       "<PIL.Image.Image image mode=L size=711x213 at 0x17B80300550>"
      ]
     },
     "metadata": {},
     "output_type": "display_data"
    }
   ],
   "source": [
    "kernel = np.ones((1,6), np.uint8)\n",
    "dilation = cv.dilate(erosion, kernel, iterations=1)\n",
    "display(Image.fromarray(dilation))"
   ]
  },
  {
   "cell_type": "code",
   "execution_count": 699,
   "metadata": {},
   "outputs": [
    {
     "data": {
      "image/png": "[encoded data removed]",
      "text/plain": [
       "<PIL.Image.Image image mode=L size=82x94 at 0x17B8033C198>"
      ]
     },
     "metadata": {},
     "output_type": "display_data"
    },
    {
     "data": {
      "image/png": "[encoded data removed]",
      "text/plain": [
       "<PIL.Image.Image image mode=L size=88x94 at 0x17B8033EDD8>"
      ]
     },
     "metadata": {},
     "output_type": "display_data"
    },
    {
     "data": {
      "image/png": "[encoded data removed]",
      "text/plain": [
       "<PIL.Image.Image image mode=L size=82x94 at 0x17B8033EDD8>"
      ]
     },
     "metadata": {},
     "output_type": "display_data"
    },
    {
     "data": {
      "image/png": "[encoded data removed]",
      "text/plain": [
       "<PIL.Image.Image image mode=L size=67x96 at 0x17B8033EDD8>"
      ]
     },
     "metadata": {},
     "output_type": "display_data"
    },
    {
     "data": {
      "image/png": "[encoded data removed]",
      "text/plain": [
       "<PIL.Image.Image image mode=L size=67x95 at 0x17B8033EDD8>"
      ]
     },
     "metadata": {},
     "output_type": "display_data"
    }
   ],
   "source": [
    "mask = np.zeros_like(dad32, dtype=np.uint8)\n",
    "cnts = cv.findContours(dilation, cv.RETR_EXTERNAL, cv.CHAIN_APPROX_SIMPLE)\n",
    "cnts = cnts[0] if len(cnts) == 2 else cnts[1]\n",
    "(cnts, _) = contours.sort_contours(cnts, method=\"left-to-right\")\n",
    "ROI_number = 0\n",
    "tokens2 = []\n",
    "for c in cnts:\n",
    "    area = cv.contourArea(c)\n",
    "    if area > 400:\n",
    "        x,y,w,h = cv.boundingRect(c)\n",
    "        ROI = 255 - dilation[y:y+h, x:x+w]\n",
    "        cropped = dilation[y:y+h, x:x+w]\n",
    "        tokens2.append(cropped)\n",
    "        cv.drawContours(mask, [c], -1, (0,255,0), 2)\n",
    "        cv.imwrite('./DAD32/ROI_{}.png'.format(ROI_number), ROI)\n",
    "        ROI_number += 1\n",
    "        display(Image.fromarray(cropped))"
   ]
  },
  {
   "cell_type": "markdown",
   "metadata": {},
   "source": [
    "## bcd12a"
   ]
  },
  {
   "cell_type": "code",
   "execution_count": 700,
   "metadata": {},
   "outputs": [
    {
     "data": {
      "image/png": "[encoded data removed]",
      "text/plain": [
       "<PIL.Image.Image image mode=L size=711x213 at 0x17B8031DBA8>"
      ]
     },
     "metadata": {},
     "output_type": "display_data"
    }
   ],
   "source": [
    "bw = cv.adaptiveThreshold(bcd12a,255, cv.ADAPTIVE_THRESH_MEAN_C,cv.THRESH_BINARY_INV,23,15)\n",
    "display(Image.fromarray(bw))"
   ]
  },
  {
   "cell_type": "code",
   "execution_count": 701,
   "metadata": {},
   "outputs": [
    {
     "data": {
      "image/png": "[encoded data removed]",
      "text/plain": [
       "<PIL.Image.Image image mode=L size=711x213 at 0x17B8031D7B8>"
      ]
     },
     "metadata": {},
     "output_type": "display_data"
    }
   ],
   "source": [
    "kernel = np.ones((2,1), np.uint8)\n",
    "erosion = cv.erode(bw, kernel, iterations=9)\n",
    "display(Image.fromarray(erosion))"
   ]
  },
  {
   "cell_type": "code",
   "execution_count": 702,
   "metadata": {},
   "outputs": [
    {
     "data": {
      "image/png": "[encoded data removed]",
      "text/plain": [
       "<PIL.Image.Image image mode=L size=711x213 at 0x17B8031D4E0>"
      ]
     },
     "metadata": {},
     "output_type": "display_data"
    }
   ],
   "source": [
    "kernel = np.ones((1,6), np.uint8)\n",
    "dilation = cv.dilate(erosion, kernel, iterations=2)\n",
    "display(Image.fromarray(dilation))"
   ]
  },
  {
   "cell_type": "code",
   "execution_count": 703,
   "metadata": {},
   "outputs": [
    {
     "data": {
      "image/png": "[encoded data removed]",
      "text/plain": [
       "<PIL.Image.Image image mode=L size=76x92 at 0x17B8033EE48>"
      ]
     },
     "metadata": {},
     "output_type": "display_data"
    },
    {
     "data": {
      "image/png": "[encoded data removed]",
      "text/plain": [
       "<PIL.Image.Image image mode=L size=83x94 at 0x17B8031D668>"
      ]
     },
     "metadata": {},
     "output_type": "display_data"
    },
    {
     "data": {
      "image/png": "[encoded data removed]",
      "text/plain": [
       "<PIL.Image.Image image mode=L size=87x92 at 0x17B8031D8D0>"
      ]
     },
     "metadata": {},
     "output_type": "display_data"
    },
    {
     "data": {
      "image/png": "[encoded data removed]",
      "text/plain": [
       "<PIL.Image.Image image mode=L size=66x92 at 0x17B8031D668>"
      ]
     },
     "metadata": {},
     "output_type": "display_data"
    },
    {
     "data": {
      "image/png": "[encoded data removed]",
      "text/plain": [
       "<PIL.Image.Image image mode=L size=71x93 at 0x17B8031D8D0>"
      ]
     },
     "metadata": {},
     "output_type": "display_data"
    },
    {
     "data": {
      "image/png": "[encoded data removed]",
      "text/plain": [
       "<PIL.Image.Image image mode=L size=92x92 at 0x17B8031D668>"
      ]
     },
     "metadata": {},
     "output_type": "display_data"
    }
   ],
   "source": [
    "mask = np.zeros_like(dad32, dtype=np.uint8)\n",
    "cnts = cv.findContours(dilation, cv.RETR_EXTERNAL, cv.CHAIN_APPROX_SIMPLE)\n",
    "cnts = cnts[0] if len(cnts) == 2 else cnts[1]\n",
    "(cnts, _) = contours.sort_contours(cnts, method=\"left-to-right\")\n",
    "ROI_number = 0\n",
    "tokens3 = []\n",
    "for c in cnts:\n",
    "    area = cv.contourArea(c)\n",
    "    if area > 400:\n",
    "        x,y,w,h = cv.boundingRect(c)\n",
    "        ROI = 255 - dilation[y:y+h, x:x+w]\n",
    "        cropped = dilation[y:y+h, x:x+w]\n",
    "        tokens3.append(cropped)\n",
    "        \n",
    "        cv.drawContours(mask, [c], -1, (0,255,0), 2)\n",
    "        cv.imwrite('./BCD12A/ROI_{}.png'.format(ROI_number), ROI)\n",
    "        ROI_number += 1\n",
    "        display(Image.fromarray(cropped))"
   ]
  },
  {
   "cell_type": "markdown",
   "metadata": {},
   "source": [
    "## Benchmarks"
   ]
  },
  {
   "cell_type": "markdown",
   "metadata": {},
   "source": [
    "### one"
   ]
  },
  {
   "cell_type": "code",
   "execution_count": 704,
   "metadata": {},
   "outputs": [
    {
     "data": {
      "image/png": "[encoded data removed]",
      "text/plain": [
       "<PIL.Image.Image image mode=L size=169x286 at 0x17B8033E0F0>"
      ]
     },
     "metadata": {},
     "output_type": "display_data"
    }
   ],
   "source": [
    "mask = np.zeros_like(one, dtype=np.uint8)\n",
    "cnts = cv.findContours(one, cv.RETR_EXTERNAL, cv.CHAIN_APPROX_SIMPLE)\n",
    "cnts = cnts[0] if len(cnts) == 2 else cnts[1]\n",
    "(cnts, _) = contours.sort_contours(cnts, method=\"left-to-right\")\n",
    "ROI_number = 0\n",
    "\n",
    "for c in cnts:\n",
    "    area = cv.contourArea(c)\n",
    "    if area > 400:\n",
    "        x,y,w,h = cv.boundingRect(c)\n",
    "        ROI = 255 - one[y:y+h, x:x+w]\n",
    "        cropped = one[y:y+h, x:x+w]\n",
    "     \n",
    "        \n",
    "        cv.drawContours(mask, [c], -1, (0,255,0), 2)\n",
    "        cv.imwrite('./benchmark/ROI_1.png', ROI)\n",
    "        ROI_number += 1\n",
    "        display(Image.fromarray(cropped))"
   ]
  },
  {
   "cell_type": "markdown",
   "metadata": {},
   "source": [
    "### two"
   ]
  },
  {
   "cell_type": "code",
   "execution_count": 705,
   "metadata": {},
   "outputs": [
    {
     "data": {
      "image/png": "[encoded data removed]",
      "text/plain": [
       "<PIL.Image.Image image mode=L size=211x316 at 0x17B8031DB38>"
      ]
     },
     "metadata": {},
     "output_type": "display_data"
    }
   ],
   "source": [
    "mask = np.zeros_like(two, dtype=np.uint8)\n",
    "cnts = cv.findContours(two, cv.RETR_EXTERNAL, cv.CHAIN_APPROX_SIMPLE)\n",
    "cnts = cnts[0] if len(cnts) == 2 else cnts[1]\n",
    "(cnts, _) = contours.sort_contours(cnts, method=\"left-to-right\")\n",
    "ROI_number = 0\n",
    "\n",
    "for c in cnts:\n",
    "    area = cv.contourArea(c)\n",
    "    if area > 400:\n",
    "        x,y,w,h = cv.boundingRect(c)\n",
    "        ROI = 255 - two[y:y+h, x:x+w]\n",
    "        cropped = two[y:y+h, x:x+w]\n",
    "        \n",
    "        \n",
    "        cv.drawContours(mask, [c], -1, (0,255,0), 2)\n",
    "        cv.imwrite('./benchmark/ROI_2.png', ROI)\n",
    "        ROI_number += 1\n",
    "        display(Image.fromarray(cropped))"
   ]
  },
  {
   "cell_type": "markdown",
   "metadata": {},
   "source": [
    "### three"
   ]
  },
  {
   "cell_type": "code",
   "execution_count": 706,
   "metadata": {},
   "outputs": [
    {
     "data": {
      "image/png": "[encoded data removed]",
      "text/plain": [
       "<PIL.Image.Image image mode=L size=175x298 at 0x17B8033E240>"
      ]
     },
     "metadata": {},
     "output_type": "display_data"
    }
   ],
   "source": [
    "mask = np.zeros_like(three, dtype=np.uint8)\n",
    "cnts = cv.findContours(three, cv.RETR_EXTERNAL, cv.CHAIN_APPROX_SIMPLE)\n",
    "cnts = cnts[0] if len(cnts) == 2 else cnts[1]\n",
    "(cnts, _) = contours.sort_contours(cnts, method=\"left-to-right\")\n",
    "ROI_number = 0\n",
    "\n",
    "for c in cnts:\n",
    "    area = cv.contourArea(c)\n",
    "    if area > 400:\n",
    "        x,y,w,h = cv.boundingRect(c)\n",
    "        ROI = 255 - three[y:y+h, x:x+w]\n",
    "        cropped = three[y:y+h, x:x+w]\n",
    "       \n",
    "        \n",
    "        cv.drawContours(mask, [c], -1, (0,255,0), 2)\n",
    "        cv.imwrite('./benchmark/ROI_3.png', ROI)\n",
    "        ROI_number += 1\n",
    "        display(Image.fromarray(cropped))"
   ]
  },
  {
   "cell_type": "markdown",
   "metadata": {},
   "source": [
    "### A"
   ]
  },
  {
   "cell_type": "code",
   "execution_count": 707,
   "metadata": {},
   "outputs": [
    {
     "data": {
      "image/png": "[encoded data removed]",
      "text/plain": [
       "<PIL.Image.Image image mode=L size=297x317 at 0x17B8033EB38>"
      ]
     },
     "metadata": {},
     "output_type": "display_data"
    }
   ],
   "source": [
    "mask = np.zeros_like(a, dtype=np.uint8)\n",
    "cnts = cv.findContours(a, cv.RETR_EXTERNAL, cv.CHAIN_APPROX_SIMPLE)\n",
    "cnts = cnts[0] if len(cnts) == 2 else cnts[1]\n",
    "(cnts, _) = contours.sort_contours(cnts, method=\"left-to-right\")\n",
    "ROI_number = 0\n",
    "\n",
    "for c in cnts:\n",
    "    area = cv.contourArea(c)\n",
    "    if area > 20000:\n",
    "        x,y,w,h = cv.boundingRect(c)\n",
    "        ROI = 255 - a[y:y+h, x:x+w]\n",
    "        cropped = a[y:y+h, x:x+w]\n",
    "        \n",
    "        \n",
    "        cv.drawContours(mask, [c], -1, (0,255,0), 2)\n",
    "        cv.imwrite('./benchmark/ROI_4.png', ROI)\n",
    "        ROI_number += 1\n",
    "        display(Image.fromarray(cropped))"
   ]
  },
  {
   "cell_type": "markdown",
   "metadata": {},
   "source": [
    "### B"
   ]
  },
  {
   "cell_type": "code",
   "execution_count": 708,
   "metadata": {},
   "outputs": [
    {
     "data": {
      "image/png": "[encoded data removed]",
      "text/plain": [
       "<PIL.Image.Image image mode=L size=260x333 at 0x17B8031DB38>"
      ]
     },
     "metadata": {},
     "output_type": "display_data"
    }
   ],
   "source": [
    "mask = np.zeros_like(b, dtype=np.uint8)\n",
    "cnts = cv.findContours(b, cv.RETR_EXTERNAL, cv.CHAIN_APPROX_SIMPLE)\n",
    "cnts = cnts[0] if len(cnts) == 2 else cnts[1]\n",
    "(cnts, _) = contours.sort_contours(cnts, method=\"left-to-right\")\n",
    "ROI_number = 0\n",
    "\n",
    "for c in cnts:\n",
    "    area = cv.contourArea(c)\n",
    "    if area > 20000:\n",
    "        x,y,w,h = cv.boundingRect(c)\n",
    "        ROI = 255 - b[y:y+h, x:x+w]\n",
    "        cropped = b[y:y+h, x:x+w]\n",
    "        \n",
    "        \n",
    "        cv.drawContours(mask, [c], -1, (0,255,0), 2)\n",
    "        cv.imwrite('./benchmark/ROI_5.png', ROI)\n",
    "        ROI_number += 1\n",
    "        display(Image.fromarray(cropped))"
   ]
  },
  {
   "cell_type": "markdown",
   "metadata": {},
   "source": [
    "### C"
   ]
  },
  {
   "cell_type": "code",
   "execution_count": 709,
   "metadata": {},
   "outputs": [
    {
     "data": {
      "image/png": "[encoded data removed]",
      "text/plain": [
       "<PIL.Image.Image image mode=L size=270x325 at 0x17B8031D4E0>"
      ]
     },
     "metadata": {},
     "output_type": "display_data"
    }
   ],
   "source": [
    "mask = np.zeros_like(C, dtype=np.uint8)\n",
    "cnts = cv.findContours(C, cv.RETR_EXTERNAL, cv.CHAIN_APPROX_SIMPLE)\n",
    "cnts = cnts[0] if len(cnts) == 2 else cnts[1]\n",
    "(cnts, _) = contours.sort_contours(cnts, method=\"left-to-right\")\n",
    "ROI_number = 0\n",
    "\n",
    "for c in cnts:\n",
    "    area = cv.contourArea(c)\n",
    "    if area > 20000:\n",
    "        x,y,w,h = cv.boundingRect(c)\n",
    "        ROI = 255 - C[y:y+h, x:x+w]\n",
    "        cropped = C[y:y+h, x:x+w]\n",
    "        \n",
    "        \n",
    "        cv.drawContours(mask, [c], -1, (0,255,0), 2)\n",
    "        cv.imwrite('./benchmark/ROI_6.png', ROI)\n",
    "        ROI_number += 1\n",
    "        display(Image.fromarray(cropped))"
   ]
  },
  {
   "cell_type": "markdown",
   "metadata": {},
   "source": [
    "### D"
   ]
  },
  {
   "cell_type": "code",
   "execution_count": 710,
   "metadata": {},
   "outputs": [
    {
     "data": {
      "image/png": "[encoded data removed]",
      "text/plain": [
       "<PIL.Image.Image image mode=L size=267x323 at 0x17B8033EC88>"
      ]
     },
     "metadata": {},
     "output_type": "display_data"
    }
   ],
   "source": [
    "mask = np.zeros_like(d, dtype=np.uint8)\n",
    "cnts = cv.findContours(d, cv.RETR_EXTERNAL, cv.CHAIN_APPROX_SIMPLE)\n",
    "cnts = cnts[0] if len(cnts) == 2 else cnts[1]\n",
    "(cnts, _) = contours.sort_contours(cnts, method=\"left-to-right\")\n",
    "ROI_number = 0\n",
    "\n",
    "for c in cnts:\n",
    "    area = cv.contourArea(c)\n",
    "    if area > 9100:\n",
    "        x,y,w,h = cv.boundingRect(c)\n",
    "        ROI = 255 - d[y:y+h, x:x+w]\n",
    "        cropped = d[y:y+h, x:x+w]\n",
    "        \n",
    "        cv.drawContours(mask, [c], -1, (0,255,0), 2)\n",
    "        cv.imwrite('./benchmark/ROI_7.png', ROI)\n",
    "        ROI_number += 1\n",
    "        display(Image.fromarray(cropped))"
   ]
  },
  {
   "cell_type": "code",
   "execution_count": 711,
   "metadata": {},
   "outputs": [],
   "source": [
    "one_thresh = cv.imread('./benchmark/ROI_1.png',0)\n",
    "two_thresh = cv.imread('./benchmark/ROI_2.png',0)\n",
    "three_thresh = cv.imread('./benchmark/ROI_3.png',0)\n",
    "a_thresh = cv.imread('./benchmark/ROI_4.png',0)\n",
    "b_thresh = cv.imread('./benchmark/ROI_5.png',0)\n",
    "C_thresh = cv.imread('./benchmark/ROI_6.png',0)\n",
    "d_thresh = cv.imread('./benchmark/ROI_7.png',0)\n",
    "benchmarks_thresh = [one_thresh, two_thresh, three_thresh, a_thresh, b_thresh, C_thresh, d_thresh]\n",
    "benchmarks_dict = {0:'1', 1:'2', 2:'3', 3:'A', 4:'B', 5:'C', 6:'D'}"
   ]
  },
  {
   "cell_type": "code",
   "execution_count": 712,
   "metadata": {},
   "outputs": [
    {
     "name": "stdout",
     "output_type": "stream",
     "text": [
      "[[0 0 0 ... 0 0 0]\n",
      " [0 0 0 ... 0 0 0]\n",
      " [0 0 0 ... 0 0 0]\n",
      " ...\n",
      " [0 0 0 ... 0 0 0]\n",
      " [0 0 0 ... 0 0 0]\n",
      " [0 0 0 ... 0 0 0]]\n",
      "[[  0   0   0 ...   0   0   0]\n",
      " [  0   0   0 ...   0   0   0]\n",
      " [  0   0   0 ...   0   0   0]\n",
      " ...\n",
      " [  0   0   0 ... 255   0   0]\n",
      " [  0   0   0 ...   0   0   0]\n",
      " [  0   0   0 ...   0   0   0]]\n",
      "[[  0   0   0 ...   0   0   0]\n",
      " [  0 255 255 ...   0   0   0]\n",
      " [255 255 255 ...   0   0   0]\n",
      " ...\n",
      " [255 255 255 ...   0   0   0]\n",
      " [  0 255 255 ...   0   0   0]\n",
      " [  0   0   0 ...   0   0   0]]\n",
      "[[  0   0   0 ...   0   0   0]\n",
      " [  0 255 255 ...   0   0   0]\n",
      " [255 255 255 ...   0   0   0]\n",
      " ...\n",
      " [255 255 255 ...   0   0   0]\n",
      " [  0 255 255 ...   0   0   0]\n",
      " [  0   0   0 ...   0   0   0]]\n"
     ]
    }
   ],
   "source": [
    "thresholded_benchmarks = threshold(benchmarks_thresh)\n",
    "resized_benchmarks = resizer(benchmarks_thresh)\n",
    "\n",
    "resized_tokens1 = resizer(tokens1)\n",
    "resized_tokens2 = resizer(tokens2)\n",
    "resized_tokens3 = resizer(tokens3)"
   ]
  },
  {
   "cell_type": "code",
   "execution_count": 713,
   "metadata": {},
   "outputs": [],
   "source": [
    "def detector(resized_tokens):\n",
    "    mapper_dict = {}\n",
    "    length = len(resized_tokens)\n",
    "    mapper = np.zeros(shape=(1,length))\n",
    "    for i in range(len(resized_tokens)):\n",
    "        token = resized_tokens[i]\n",
    "        max_s = -1\n",
    "        for j in range(len(resized_benchmarks)):\n",
    "            benchmark = resized_benchmarks[j]\n",
    "            s = ssim(benchmark, token)\n",
    "\n",
    "            if s > max_s:\n",
    "                max_s = s\n",
    "                max_benchmark = j\n",
    "\n",
    "        mapper[0, i] = max_benchmark\n",
    "        mapper_dict[i] = benchmarks_dict[max_benchmark]\n",
    "\n",
    "    return mapper_dict.values()"
   ]
  },
  {
   "cell_type": "code",
   "execution_count": 714,
   "metadata": {},
   "outputs": [
    {
     "data": {
      "text/plain": [
       "dict_values(['A', 'B', 'C', 'D', '1', '2', '3'])"
      ]
     },
     "execution_count": 714,
     "metadata": {},
     "output_type": "execute_result"
    }
   ],
   "source": [
    "res = detector(resized_tokens1)\n",
    "res"
   ]
  },
  {
   "cell_type": "code",
   "execution_count": 715,
   "metadata": {},
   "outputs": [
    {
     "data": {
      "text/plain": [
       "dict_values(['D', 'A', 'D', '3', '2'])"
      ]
     },
     "execution_count": 715,
     "metadata": {},
     "output_type": "execute_result"
    }
   ],
   "source": [
    "res = detector(resized_tokens2)\n",
    "res"
   ]
  },
  {
   "cell_type": "code",
   "execution_count": 716,
   "metadata": {},
   "outputs": [
    {
     "data": {
      "text/plain": [
       "dict_values(['B', 'C', 'D', '1', '2', 'A'])"
      ]
     },
     "execution_count": 716,
     "metadata": {},
     "output_type": "execute_result"
    }
   ],
   "source": [
    "res = detector(resized_tokens3)\n",
    "res"
   ]
  }
 ],
 "metadata": {
  "kernelspec": {
   "display_name": "Python 3",
   "language": "python",
   "name": "python3"
  },
  "language_info": {
   "codemirror_mode": {
    "name": "ipython",
    "version": 3
   },
   "file_extension": ".py",
   "mimetype": "text/x-python",
   "name": "python",
   "nbconvert_exporter": "python",
   "pygments_lexer": "ipython3",
   "version": "3.7.1"
  }
 },
 "nbformat": 4,
 "nbformat_minor": 2
}
