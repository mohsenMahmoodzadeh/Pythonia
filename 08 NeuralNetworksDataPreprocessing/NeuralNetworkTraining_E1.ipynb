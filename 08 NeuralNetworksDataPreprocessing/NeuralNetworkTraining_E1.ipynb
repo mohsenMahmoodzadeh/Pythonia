{
  "nbformat": 4,
  "nbformat_minor": 0,
  "metadata": {
    "colab": {
      "name": "NeuralNetworkTraining-E1.ipynb",
      "provenance": [],
      "collapsed_sections": []
    },
    "kernelspec": {
      "name": "python3",
      "display_name": "Python 3"
    }
  },
  "cells": [
    {
      "cell_type": "markdown",
      "metadata": {
        "id": "qq5hCFObOC9m",
        "colab_type": "text"
      },
      "source": [
        "**Data Processing Training**"
      ]
    },
    {
      "cell_type": "markdown",
      "metadata": {
        "id": "4lmqN1xZdyDQ",
        "colab_type": "text"
      },
      "source": [
        "**Problem 1: Ordinal Encoding**\n",
        "\n",
        "\n",
        "\n",
        "```\n",
        "# from sklearn.preprocessing import OrdinalEncoder\n",
        "\n",
        "enc = OrdinalEncoder()\n",
        "\n",
        "dataset[[\"Geography\",\"Gender\"]] = enc.fit_transform(dataset[[\"Geography\",\"Gender\"]])\n",
        "\n",
        "print(dataset)\n",
        "```\n",
        "\n"
      ]
    },
    {
      "cell_type": "markdown",
      "metadata": {
        "id": "Ul2RTnVv4g92",
        "colab_type": "text"
      },
      "source": [
        "**Problem 2: Column Transformer**\n",
        "\n",
        "I didn't know exactly, but I guess the previous values of X, may effect on result. so we create an numpy array from pure output of ct.fit_transform(). "
      ]
    },
    {
      "cell_type": "markdown",
      "metadata": {
        "id": "EZa267mzc5pc",
        "colab_type": "text"
      },
      "source": [
        "Imports"
      ]
    },
    {
      "cell_type": "code",
      "metadata": {
        "id": "MTwmOoLfNsiQ",
        "colab_type": "code",
        "colab": {}
      },
      "source": [
        "import numpy as np\n",
        "import matplotlib.pyplot as plt\n",
        "import pandas as pd\n",
        "import sys\n",
        "\n",
        "np.set_printoptions(threshold=sys.maxsize)"
      ],
      "execution_count": 88,
      "outputs": []
    },
    {
      "cell_type": "markdown",
      "metadata": {
        "id": "FN7skzcac8PC",
        "colab_type": "text"
      },
      "source": [
        "Read data"
      ]
    },
    {
      "cell_type": "code",
      "metadata": {
        "id": "dA6RtyVKOuAu",
        "colab_type": "code",
        "colab": {
          "base_uri": "https://localhost:8080/",
          "height": 260
        },
        "outputId": "9367e427-45bb-4ed0-94e6-a7ce541d9c04"
      },
      "source": [
        "dataset = pd.read_csv('./bp1.csv')\n",
        "dataset = dataset.drop(['RowNumber', 'CustomerId', 'Surname'], axis = 1)\n",
        "# check = dataset['EstimatedSalary'].isnull().values.any()\n",
        "X = dataset.iloc[:,:-1].values\n",
        "Y = dataset.iloc[:,10].values\n",
        "# print(X)\n",
        "print(dataset)\n",
        "# print(check)"
      ],
      "execution_count": 89,
      "outputs": [
        {
          "output_type": "stream",
          "text": [
            "      CreditScore Geography  Gender  ...  IsActiveMember  EstimatedSalary  Exited\n",
            "0             619    France  Female  ...               1        101348.88       1\n",
            "1             608     Spain  Female  ...               1        112542.58       0\n",
            "2             502    France  Female  ...               0        113931.57       1\n",
            "3             699    France  Female  ...               0         93826.63       0\n",
            "4             850     Spain  Female  ...               1         79084.10       0\n",
            "...           ...       ...     ...  ...             ...              ...     ...\n",
            "9995          771    France    Male  ...               0         96270.64       0\n",
            "9996          516    France    Male  ...               1        101699.77       0\n",
            "9997          709    France  Female  ...               1         42085.58       1\n",
            "9998          772   Germany    Male  ...               0         92888.52       1\n",
            "9999          792    France  Female  ...               0         38190.78       0\n",
            "\n",
            "[10000 rows x 11 columns]\n"
          ],
          "name": "stdout"
        }
      ]
    },
    {
      "cell_type": "markdown",
      "metadata": {
        "id": "tvz1Nhbkc-2x",
        "colab_type": "text"
      },
      "source": [
        "Imputation"
      ]
    },
    {
      "cell_type": "code",
      "metadata": {
        "id": "PVgclC3hPOyk",
        "colab_type": "code",
        "colab": {}
      },
      "source": [
        "# from sklearn.impute import SimpleImputer\n",
        "# imp = SimpleImputer(missing_values=np.nan, strategy='mean')\n",
        "# imp = imp.fit(X[:,:9])\n",
        "# X[:,:9] = imp.transform(X[:,:9])"
      ],
      "execution_count": 54,
      "outputs": []
    },
    {
      "cell_type": "markdown",
      "metadata": {
        "id": "_rlk-eqTdCdh",
        "colab_type": "text"
      },
      "source": [
        "Encoding"
      ]
    },
    {
      "cell_type": "code",
      "metadata": {
        "id": "Pfg4eLce3jwn",
        "colab_type": "code",
        "colab": {
          "base_uri": "https://localhost:8080/",
          "height": 260
        },
        "outputId": "c0fba12c-8952-4833-ba1d-0bac9dbd1bc6"
      },
      "source": [
        "# from sklearn.preprocessing import OrdinalEncoder\n",
        "# enc = OrdinalEncoder()\n",
        "# dataset[[\"Geography\",\"Gender\"]] = enc.fit_transform(dataset[[\"Geography\",\"Gender\"]])\n",
        "# print(dataset)"
      ],
      "execution_count": 87,
      "outputs": [
        {
          "output_type": "stream",
          "text": [
            "      CreditScore  Geography  Gender  ...  IsActiveMember  EstimatedSalary  Exited\n",
            "0             619        0.0     0.0  ...               1        101348.88       1\n",
            "1             608        2.0     0.0  ...               1        112542.58       0\n",
            "2             502        0.0     0.0  ...               0        113931.57       1\n",
            "3             699        0.0     0.0  ...               0         93826.63       0\n",
            "4             850        2.0     0.0  ...               1         79084.10       0\n",
            "...           ...        ...     ...  ...             ...              ...     ...\n",
            "9995          771        0.0     1.0  ...               0         96270.64       0\n",
            "9996          516        0.0     1.0  ...               1        101699.77       0\n",
            "9997          709        0.0     0.0  ...               1         42085.58       1\n",
            "9998          772        1.0     1.0  ...               0         92888.52       1\n",
            "9999          792        0.0     0.0  ...               0         38190.78       0\n",
            "\n",
            "[10000 rows x 11 columns]\n"
          ],
          "name": "stdout"
        }
      ]
    },
    {
      "cell_type": "code",
      "metadata": {
        "id": "QWpNYKiKR7Wi",
        "colab_type": "code",
        "colab": {
          "base_uri": "https://localhost:8080/",
          "height": 191
        },
        "outputId": "5d5c8140-419d-4779-ea5a-d1765bb85f92"
      },
      "source": [
        "from sklearn.preprocessing import LabelEncoder\n",
        "enc = LabelEncoder()\n",
        "enc = enc.fit(X[:,1])\n",
        "X[:, 1] = enc.transform(X[:, 1])\n",
        "\n",
        "enc = enc.fit(X[:,2])\n",
        "X[:, 2] = enc.transform(X[:, 2])\n",
        "print(X[:10, :])"
      ],
      "execution_count": 93,
      "outputs": [
        {
          "output_type": "stream",
          "text": [
            "[[619 0 0 42 2 0.0 1 1 1 101348.88]\n",
            " [608 2 0 41 1 83807.86 1 0 1 112542.58]\n",
            " [502 0 0 42 8 159660.8 3 1 0 113931.57]\n",
            " [699 0 0 39 1 0.0 2 0 0 93826.63]\n",
            " [850 2 0 43 2 125510.82 1 1 1 79084.1]\n",
            " [645 2 1 44 8 113755.78 2 1 0 149756.71]\n",
            " [822 0 1 50 7 0.0 2 1 1 10062.8]\n",
            " [376 1 0 29 4 115046.74 4 1 0 119346.88]\n",
            " [501 0 1 44 4 142051.07 2 0 1 74940.5]\n",
            " [684 0 1 27 2 134603.88 1 1 1 71725.73]]\n"
          ],
          "name": "stdout"
        }
      ]
    },
    {
      "cell_type": "code",
      "metadata": {
        "id": "1bdq3jOCV8kZ",
        "colab_type": "code",
        "colab": {
          "base_uri": "https://localhost:8080/",
          "height": 364
        },
        "outputId": "608907c0-cc40-41df-e58a-22042f17acaf"
      },
      "source": [
        "from sklearn.preprocessing import OneHotEncoder\n",
        "from sklearn.compose import ColumnTransformer\n",
        "ct = ColumnTransformer([(\"encoder\", OneHotEncoder(), [1,2,7,8])], remainder='passthrough')\n",
        "X = np.array(ct.fit_transform(X), dtype=np.str)\n",
        "print(X[:10, :])"
      ],
      "execution_count": 94,
      "outputs": [
        {
          "output_type": "stream",
          "text": [
            "[['1.0' '0.0' '0.0' '1.0' '0.0' '0.0' '1.0' '0.0' '1.0' '619' '42' '2'\n",
            "  '0.0' '1' '101348.88']\n",
            " ['0.0' '0.0' '1.0' '1.0' '0.0' '1.0' '0.0' '0.0' '1.0' '608' '41' '1'\n",
            "  '83807.86' '1' '112542.58']\n",
            " ['1.0' '0.0' '0.0' '1.0' '0.0' '0.0' '1.0' '1.0' '0.0' '502' '42' '8'\n",
            "  '159660.8' '3' '113931.57']\n",
            " ['1.0' '0.0' '0.0' '1.0' '0.0' '1.0' '0.0' '1.0' '0.0' '699' '39' '1'\n",
            "  '0.0' '2' '93826.63']\n",
            " ['0.0' '0.0' '1.0' '1.0' '0.0' '0.0' '1.0' '0.0' '1.0' '850' '43' '2'\n",
            "  '125510.82' '1' '79084.1']\n",
            " ['0.0' '0.0' '1.0' '0.0' '1.0' '0.0' '1.0' '1.0' '0.0' '645' '44' '8'\n",
            "  '113755.78' '2' '149756.71']\n",
            " ['1.0' '0.0' '0.0' '0.0' '1.0' '0.0' '1.0' '0.0' '1.0' '822' '50' '7'\n",
            "  '0.0' '2' '10062.8']\n",
            " ['0.0' '1.0' '0.0' '1.0' '0.0' '0.0' '1.0' '1.0' '0.0' '376' '29' '4'\n",
            "  '115046.74' '4' '119346.88']\n",
            " ['1.0' '0.0' '0.0' '0.0' '1.0' '1.0' '0.0' '0.0' '1.0' '501' '44' '4'\n",
            "  '142051.07' '2' '74940.5']\n",
            " ['1.0' '0.0' '0.0' '0.0' '1.0' '0.0' '1.0' '0.0' '1.0' '684' '27' '2'\n",
            "  '134603.88' '1' '71725.73']]\n"
          ],
          "name": "stdout"
        }
      ]
    },
    {
      "cell_type": "markdown",
      "metadata": {
        "id": "5XZQM7vJdFul",
        "colab_type": "text"
      },
      "source": [
        "split train and test"
      ]
    },
    {
      "cell_type": "code",
      "metadata": {
        "id": "BQOvAzT-YQxc",
        "colab_type": "code",
        "colab": {
          "base_uri": "https://localhost:8080/",
          "height": 364
        },
        "outputId": "ceca9fb3-674c-49c5-e34c-6405738cb70f"
      },
      "source": [
        "from sklearn.model_selection import train_test_split\n",
        "X_train, X_test, Y_train, Y_test = train_test_split(X, Y, test_size = 0.20)\n",
        "print(X_train[:10, :])"
      ],
      "execution_count": 95,
      "outputs": [
        {
          "output_type": "stream",
          "text": [
            "[['0.0' '0.0' '1.0' '1.0' '0.0' '0.0' '1.0' '0.0' '1.0' '743' '36' '8'\n",
            "  '92716.96' '1' '33693.78']\n",
            " ['0.0' '0.0' '1.0' '0.0' '1.0' '0.0' '1.0' '1.0' '0.0' '800' '38' '1'\n",
            "  '0.0' '2' '51553.43']\n",
            " ['0.0' '1.0' '0.0' '1.0' '0.0' '0.0' '1.0' '0.0' '1.0' '636' '31' '9'\n",
            "  '80844.69' '2' '74641.9']\n",
            " ['0.0' '0.0' '1.0' '1.0' '0.0' '0.0' '1.0' '1.0' '0.0' '553' '39' '1'\n",
            "  '142876.98' '2' '44363.42']\n",
            " ['1.0' '0.0' '0.0' '0.0' '1.0' '0.0' '1.0' '0.0' '1.0' '611' '30' '9'\n",
            "  '0.0' '2' '148887.69']\n",
            " ['1.0' '0.0' '0.0' '1.0' '0.0' '0.0' '1.0' '1.0' '0.0' '711' '39' '3'\n",
            "  '152462.79' '1' '90305.97']\n",
            " ['1.0' '0.0' '0.0' '1.0' '0.0' '0.0' '1.0' '1.0' '0.0' '449' '37' '6'\n",
            "  '0.0' '2' '82176.48']\n",
            " ['1.0' '0.0' '0.0' '1.0' '0.0' '0.0' '1.0' '0.0' '1.0' '656' '48' '9'\n",
            "  '0.0' '2' '85240.61']\n",
            " ['1.0' '0.0' '0.0' '1.0' '0.0' '0.0' '1.0' '0.0' '1.0' '670' '45' '5'\n",
            "  '47884.92' '1' '54340.24']\n",
            " ['1.0' '0.0' '0.0' '1.0' '0.0' '1.0' '0.0' '0.0' '1.0' '772' '35' '9'\n",
            "  '0.0' '1' '25448.31']]\n"
          ],
          "name": "stdout"
        }
      ]
    },
    {
      "cell_type": "markdown",
      "metadata": {
        "id": "WW1R3fKHcxYf",
        "colab_type": "text"
      },
      "source": [
        "Standardizing"
      ]
    },
    {
      "cell_type": "code",
      "metadata": {
        "id": "dzMAxRGTaw6D",
        "colab_type": "code",
        "colab": {
          "base_uri": "https://localhost:8080/",
          "height": 537
        },
        "outputId": "e3ef2bc1-7d64-44b8-81f6-e341864d2655"
      },
      "source": [
        "from sklearn.preprocessing import StandardScaler\n",
        "sc_x = StandardScaler()\n",
        "X_train = sc_x.fit_transform(X_train)\n",
        "X_test = sc_x.fit_transform(X_train)\n",
        "print(X_train[:10, :])"
      ],
      "execution_count": 96,
      "outputs": [
        {
          "output_type": "stream",
          "text": [
            "[[-0.99600797 -0.58119931  1.73436329  1.08948952 -1.08948952 -0.64589732\n",
            "   0.64589732 -0.96801137  0.96801137  0.9624188  -0.27763781  1.02846547\n",
            "   0.25440441 -0.90722244 -1.16841886]\n",
            " [-0.99600797 -0.58119931  1.73436329 -0.91786105  0.91786105 -0.64589732\n",
            "   0.64589732  1.03304572 -1.03304572  1.55297499 -0.08760509 -1.40721356\n",
            "  -1.23252086  0.81589711 -0.8574222 ]\n",
            " [-0.99600797  1.72058015 -0.57658047  1.08948952 -1.08948952 -0.64589732\n",
            "   0.64589732 -0.96801137  0.96801137 -0.14616913 -0.75271962  1.37641962\n",
            "   0.06400582  0.81589711 -0.45537417]\n",
            " [-0.99600797 -0.58119931  1.73436329  1.08948952 -1.08948952 -0.64589732\n",
            "   0.64589732  1.03304572 -1.03304572 -1.00610183  0.00741128 -1.40721356\n",
            "   1.0588333   0.81589711 -0.98262449]\n",
            " [ 1.00400803 -0.58119931 -0.57658047 -0.91786105  0.91786105 -0.64589732\n",
            "   0.64589732 -0.96801137  0.96801137 -0.405185   -0.84773598  1.37641962\n",
            "  -1.23252086  0.81589711  0.83749511]\n",
            " [ 1.00400803 -0.58119931 -0.57658047  1.08948952 -1.08948952 -0.64589732\n",
            "   0.64589732  1.03304572 -1.03304572  0.63087848  0.00741128 -0.71130527\n",
            "   1.21256335 -0.90722244 -0.18260995]\n",
            " [ 1.00400803 -0.58119931 -0.57658047  1.08948952 -1.08948952 -0.64589732\n",
            "   0.64589732  1.03304572 -1.03304572 -2.08360785 -0.18262145  0.33255718\n",
            "  -1.23252086  0.81589711 -0.32417175]\n",
            " [ 1.00400803 -0.58119931 -0.57658047  1.08948952 -1.08948952 -0.64589732\n",
            "   0.64589732 -0.96801137  0.96801137  0.06104357  0.86255854  1.37641962\n",
            "  -1.23252086  0.81589711 -0.27081493]\n",
            " [ 1.00400803 -0.58119931 -0.57658047  1.08948952 -1.08948952 -0.64589732\n",
            "   0.64589732 -0.96801137  0.96801137  0.20609245  0.57750945 -0.01539697\n",
            "  -0.46457833 -0.90722244 -0.80889445]\n",
            " [ 1.00400803 -0.58119931 -0.57658047  1.08948952 -1.08948952  1.5482337\n",
            "  -1.5482337  -0.96801137  0.96801137  1.26287721 -0.37265417  1.37641962\n",
            "  -1.23252086 -0.90722244 -1.31200026]]\n"
          ],
          "name": "stdout"
        }
      ]
    }
  ]
}